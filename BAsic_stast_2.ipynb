{
  "cells": [
    {
      "cell_type": "code",
      "source": [
        "import numpy as np\n",
        "import scipy.stats as stats\n",
        "\n",
        "# Given sample data\n",
        "data = [1.13, 1.55, 1.43, 0.92, 1.25, 1.36, 1.32, 0.85, 1.07, 1.48, 1.20, 1.33, 1.18, 1.22, 1.29]\n",
        "n = len(data)\n",
        "mean_x = np.mean(data)  # Sample mean\n",
        "std_s = np.std(data, ddof=1)  # Sample standard deviation\n",
        "# Confidence Interval using Sample Standard Deviation\n",
        "confidence_level = 0.99\n",
        "t_critical = stats.t.ppf((1 + confidence_level) / 2, df=n-1)  # t-value\n",
        "margin_of_error_a = t_critical * (std_s / np.sqrt(n))\n",
        "ci_a = (mean_x - margin_of_error_a, mean_x + margin_of_error_a)\n",
        "\n",
        "#  Confidence Interval using Known Population Standard Deviation\n",
        "pop_std = 0.2\n",
        "z_critical = stats.norm.ppf((1 + confidence_level) / 2)  # z-value\n",
        "margin_of_error_b = z_critical * (pop_std / np.sqrt(n))\n",
        "ci_b = (mean_x - margin_of_error_b, mean_x + margin_of_error_b)\n",
        "\n",
        "# Display results\n",
        "print(f\"99% Confidence Interval using Sample Std Dev: {ci_a}\")\n",
        "print(f\"99% Confidence Interval using Known Population Std Dev: {ci_b}\")\n"
      ],
      "metadata": {
        "colab": {
          "base_uri": "https://localhost:8080/"
        },
        "id": "QE5Ztup_0ojO",
        "outputId": "9a00f4d2-0a29-46c1-9321-b50f35f1f035"
      },
      "execution_count": 167,
      "outputs": [
        {
          "output_type": "stream",
          "name": "stdout",
          "text": [
            "99% Confidence Interval using Sample Std Dev: (1.0901973384384906, 1.3871359948948425)\n",
            "99% Confidence Interval using Known Population Std Dev: (1.1056514133957607, 1.3716819199375725)\n"
          ]
        }
      ]
    }
  ],
  "metadata": {
    "colab": {
      "provenance": []
    },
    "kernelspec": {
      "display_name": "Python 3",
      "name": "python3"
    },
    "language_info": {
      "name": "python"
    }
  },
  "nbformat": 4,
  "nbformat_minor": 0
}