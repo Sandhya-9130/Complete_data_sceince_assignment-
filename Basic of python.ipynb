{
  "nbformat": 4,
  "nbformat_minor": 0,
  "metadata": {
    "colab": {
      "provenance": []
    },
    "kernelspec": {
      "name": "python3",
      "display_name": "Python 3"
    },
    "language_info": {
      "name": "python"
    }
  },
  "cells": [
    {
      "cell_type": "code",
      "execution_count": null,
      "metadata": {
        "id": "0wtgCfRd4Jky"
      },
      "outputs": [],
      "source": []
    },
    {
      "cell_type": "markdown",
      "source": [
        "Exercise 1: Prime Numbers\n",
        "Write a Python program that checks whether a given number is prime or not. A prime number is a natural number greater than 1 that has no positive divisors other than 1 and itself.\n"
      ],
      "metadata": {
        "id": "RZcu7G3E4KG4"
      }
    },
    {
      "cell_type": "code",
      "source": [
        "def is_prime(n):\n",
        "    if n <= 1:\n",
        "        return False\n",
        "    for i in range(2, int(n ** 0.5) + 1):\n",
        "        if n % i == 0:\n",
        "            return False\n",
        "    return True\n",
        "\n",
        "# Example\n",
        "num = int(input(\"Enter a number: \"))\n",
        "if is_prime(num):\n",
        "    print(f\"{num} is a prime number.\")\n",
        "else:\n",
        "    print(f\"{num} is not a prime number.\")\n"
      ],
      "metadata": {
        "colab": {
          "base_uri": "https://localhost:8080/"
        },
        "id": "L4EMNoM74Mok",
        "outputId": "51abbe98-0a87-46aa-ff32-846e58be9944"
      },
      "execution_count": 1,
      "outputs": [
        {
          "output_type": "stream",
          "name": "stdout",
          "text": [
            "Enter a number: 5\n",
            "5 is a prime number.\n"
          ]
        }
      ]
    },
    {
      "cell_type": "markdown",
      "source": [
        "Exercise 2: Product of Random Numbers\n",
        "Develop a Python program that generates two random numbers and asks the user to enter the product of these numbers. The program should then check if the user's answer is correct and display an appropriate message.\n"
      ],
      "metadata": {
        "id": "fx8cHlt04du0"
      }
    },
    {
      "cell_type": "code",
      "source": [
        "import random\n",
        "\n",
        "def multiplication_quiz():\n",
        "    num1 = random.randint(1, 10)\n",
        "    num2 = random.randint(1, 10)\n",
        "    correct_answer = num1 * num2\n",
        "\n",
        "    user_answer = int(input(f\"What is {num1} * {num2}? \"))\n",
        "\n",
        "    if user_answer == correct_answer:\n",
        "        print(\"Correct! Well done.\")\n",
        "    else:\n",
        "        print(f\"Incorrect. The correct answer is {correct_answer}.\")\n",
        "\n",
        "# Run the program\n",
        "multiplication_quiz()\n"
      ],
      "metadata": {
        "colab": {
          "base_uri": "https://localhost:8080/"
        },
        "id": "sjzy-5MQ4iPD",
        "outputId": "eae91d56-e2b4-404b-81f9-0169d875bd3c"
      },
      "execution_count": 2,
      "outputs": [
        {
          "output_type": "stream",
          "name": "stdout",
          "text": [
            "What is 9 * 10? 90\n",
            "Correct! Well done.\n"
          ]
        }
      ]
    },
    {
      "cell_type": "markdown",
      "source": [
        "Exercise 3: Squares of Even/Odd Numbers\n",
        "Create a Python script that prints the squares of all even or odd numbers within the range of 100 to 200. Choose either even or odd numbers and document your choice in the code.\n"
      ],
      "metadata": {
        "id": "lDI9cJq74sAT"
      }
    },
    {
      "cell_type": "code",
      "source": [
        "def print_even_squares():\n",
        "    for num in range(100, 201):\n",
        "        if num % 2 == 0:\n",
        "            print(f\"{num}^2 = {num ** 2}\")\n",
        "\n",
        "# Run the function\n",
        "print_even_squares()\n"
      ],
      "metadata": {
        "colab": {
          "base_uri": "https://localhost:8080/"
        },
        "id": "DrGwVO3E4xFi",
        "outputId": "24c3f836-44e6-41aa-c84d-f94b0fc1168e"
      },
      "execution_count": 3,
      "outputs": [
        {
          "output_type": "stream",
          "name": "stdout",
          "text": [
            "100^2 = 10000\n",
            "102^2 = 10404\n",
            "104^2 = 10816\n",
            "106^2 = 11236\n",
            "108^2 = 11664\n",
            "110^2 = 12100\n",
            "112^2 = 12544\n",
            "114^2 = 12996\n",
            "116^2 = 13456\n",
            "118^2 = 13924\n",
            "120^2 = 14400\n",
            "122^2 = 14884\n",
            "124^2 = 15376\n",
            "126^2 = 15876\n",
            "128^2 = 16384\n",
            "130^2 = 16900\n",
            "132^2 = 17424\n",
            "134^2 = 17956\n",
            "136^2 = 18496\n",
            "138^2 = 19044\n",
            "140^2 = 19600\n",
            "142^2 = 20164\n",
            "144^2 = 20736\n",
            "146^2 = 21316\n",
            "148^2 = 21904\n",
            "150^2 = 22500\n",
            "152^2 = 23104\n",
            "154^2 = 23716\n",
            "156^2 = 24336\n",
            "158^2 = 24964\n",
            "160^2 = 25600\n",
            "162^2 = 26244\n",
            "164^2 = 26896\n",
            "166^2 = 27556\n",
            "168^2 = 28224\n",
            "170^2 = 28900\n",
            "172^2 = 29584\n",
            "174^2 = 30276\n",
            "176^2 = 30976\n",
            "178^2 = 31684\n",
            "180^2 = 32400\n",
            "182^2 = 33124\n",
            "184^2 = 33856\n",
            "186^2 = 34596\n",
            "188^2 = 35344\n",
            "190^2 = 36100\n",
            "192^2 = 36864\n",
            "194^2 = 37636\n",
            "196^2 = 38416\n",
            "198^2 = 39204\n",
            "200^2 = 40000\n"
          ]
        }
      ]
    },
    {
      "cell_type": "markdown",
      "source": [
        "Exercise 4: Word counter\n",
        "write a program to count the number of words in a given text.\n",
        "example:\n",
        "input_text = \"This is a sample text. This text will be used to demonstrate the word counter.\"\n",
        "Expected output:\n",
        "'This': 2\n",
        "'is': 1\n",
        "'a': 1\n",
        "'sample': 1\n",
        "'text.': 1\n"
      ],
      "metadata": {
        "id": "RJ6szCLN434Z"
      }
    },
    {
      "cell_type": "code",
      "source": [
        "from collections import Counter\n",
        "\n",
        "def count_words(text):\n",
        "    words = text.split()\n",
        "    word_count = Counter(words)\n",
        "    for word, count in word_count.items():\n",
        "        print(f\"'{word}': {count}\")\n",
        "\n",
        "# Example\n",
        "input_text = \"This is a sample text. This text will be used to demonstrate the word counter.\"\n",
        "count_words(input_text)\n"
      ],
      "metadata": {
        "colab": {
          "base_uri": "https://localhost:8080/"
        },
        "id": "yT-9hGA14_ix",
        "outputId": "8e656589-fb1d-482a-c2f7-6686762bcc8b"
      },
      "execution_count": 4,
      "outputs": [
        {
          "output_type": "stream",
          "name": "stdout",
          "text": [
            "'This': 2\n",
            "'is': 1\n",
            "'a': 1\n",
            "'sample': 1\n",
            "'text.': 1\n",
            "'text': 1\n",
            "'will': 1\n",
            "'be': 1\n",
            "'used': 1\n",
            "'to': 1\n",
            "'demonstrate': 1\n",
            "'the': 1\n",
            "'word': 1\n",
            "'counter.': 1\n"
          ]
        }
      ]
    },
    {
      "cell_type": "markdown",
      "source": [
        "Exercise 5: Check for Palindrome\n",
        "Write a Python function called is_palindrome that takes a string as input and returns True if the string is a palindrome, and False otherwise. A palindrome is a word, phrase, number, or other sequence of characters that reads the same forward and backward, ignoring spaces, punctuation, and capitalization.\n",
        "Example:\n",
        "Input: \"racecar\"\n",
        "Expected Output: True\n"
      ],
      "metadata": {
        "id": "s3awl6qN5GOZ"
      }
    },
    {
      "cell_type": "code",
      "source": [
        "def is_palindrome(s):\n",
        "    cleaned_s = ''.join(c.lower() for c in s if c.isalnum())\n",
        "    return cleaned_s == cleaned_s[::-1]\n",
        "\n",
        "# Example\n",
        "input_text = \"racecar\"\n",
        "print(is_palindrome(input_text))"
      ],
      "metadata": {
        "colab": {
          "base_uri": "https://localhost:8080/"
        },
        "id": "yBsk2mmI5LMl",
        "outputId": "25c4c4e3-4c82-4d2f-e4e1-8f49922cb2c6"
      },
      "execution_count": 5,
      "outputs": [
        {
          "output_type": "stream",
          "name": "stdout",
          "text": [
            "True\n"
          ]
        }
      ]
    }
  ]
}